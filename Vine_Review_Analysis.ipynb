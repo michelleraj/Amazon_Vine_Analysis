{
  "nbformat": 4,
  "nbformat_minor": 0,
  "metadata": {
    "colab": {
      "name": "Vine_Review_Analysis.ipynb",
      "provenance": []
    },
    "kernelspec": {
      "name": "python3",
      "display_name": "Python 3"
    },
    "language_info": {
      "name": "python"
    }
  },
  "cells": [
    {
      "cell_type": "code",
      "metadata": {
        "colab": {
          "base_uri": "https://localhost:8080/"
        },
        "id": "-2l5Y9DVKXMI",
        "outputId": "37d7b9c4-85bb-433b-c6ea-da5fe19da232"
      },
      "source": [
        "import os\n",
        "# Find the latest version of spark 3.0 from http://www.apache.org/dist/spark/ and enter as the spark version\n",
        "# For example:\n",
        "# spark_version = 'spark-3.0.3'\n",
        "spark_version = 'spark-3.0.3'\n",
        "os.environ['SPARK_VERSION']=spark_version\n",
        "\n",
        "# Install Spark and Java\n",
        "!apt-get update\n",
        "!apt-get install openjdk-11-jdk-headless -qq > /dev/null\n",
        "!wget -q http://www.apache.org/dist/spark/$SPARK_VERSION/$SPARK_VERSION-bin-hadoop2.7.tgz\n",
        "!tar xf $SPARK_VERSION-bin-hadoop2.7.tgz\n",
        "!pip install -q findspark\n",
        "\n",
        "# Set Environment Variables\n",
        "import os\n",
        "os.environ[\"JAVA_HOME\"] = \"/usr/lib/jvm/java-11-openjdk-amd64\"\n",
        "os.environ[\"SPARK_HOME\"] = f\"/content/{spark_version}-bin-hadoop2.7\"\n",
        "\n",
        "# Start a SparkSession\n",
        "import findspark\n",
        "findspark.init()\n",
        "# Download the Postgres driver that will allow Spark to interact with Postgres.\n",
        "!wget https://jdbc.postgresql.org/download/postgresql-42.2.16.jar\n",
        "\n"
      ],
      "execution_count": 9,
      "outputs": [
        {
          "output_type": "stream",
          "name": "stdout",
          "text": [
            "\r0% [Working]\r            \rHit:1 http://security.ubuntu.com/ubuntu bionic-security InRelease\n",
            "\r0% [Connecting to archive.ubuntu.com (91.189.88.142)] [Connecting to cloud.r-pr\r0% [1 InRelease gpgv 88.7 kB] [Connecting to archive.ubuntu.com (91.189.88.142)\r                                                                               \rIgn:2 https://developer.download.nvidia.com/compute/cuda/repos/ubuntu1804/x86_64  InRelease\n",
            "\r0% [1 InRelease gpgv 88.7 kB] [Waiting for headers] [Waiting for headers] [Wait\r                                                                               \rHit:3 https://cloud.r-project.org/bin/linux/ubuntu bionic-cran40/ InRelease\n",
            "\r0% [1 InRelease gpgv 88.7 kB] [Waiting for headers] [Waiting for headers] [Wait\r                                                                               \rHit:4 http://archive.ubuntu.com/ubuntu bionic InRelease\n",
            "Hit:5 http://ppa.launchpad.net/c2d4u.team/c2d4u4.0+/ubuntu bionic InRelease\n",
            "Ign:6 https://developer.download.nvidia.com/compute/machine-learning/repos/ubuntu1804/x86_64  InRelease\n",
            "Hit:7 https://developer.download.nvidia.com/compute/cuda/repos/ubuntu1804/x86_64  Release\n",
            "Hit:8 https://developer.download.nvidia.com/compute/machine-learning/repos/ubuntu1804/x86_64  Release\n",
            "Get:9 http://archive.ubuntu.com/ubuntu bionic-updates InRelease [88.7 kB]\n",
            "Hit:10 http://ppa.launchpad.net/cran/libgit2/ubuntu bionic InRelease\n",
            "Hit:11 http://ppa.launchpad.net/deadsnakes/ppa/ubuntu bionic InRelease\n",
            "Get:12 http://archive.ubuntu.com/ubuntu bionic-backports InRelease [74.6 kB]\n",
            "Hit:13 http://ppa.launchpad.net/graphics-drivers/ppa/ubuntu bionic InRelease\n",
            "Fetched 163 kB in 2s (70.8 kB/s)\n",
            "Reading package lists... Done\n",
            "--2021-10-30 18:36:56--  https://jdbc.postgresql.org/download/postgresql-42.2.16.jar\n",
            "Resolving jdbc.postgresql.org (jdbc.postgresql.org)... 72.32.157.228, 2001:4800:3e1:1::228\n",
            "Connecting to jdbc.postgresql.org (jdbc.postgresql.org)|72.32.157.228|:443... connected.\n",
            "HTTP request sent, awaiting response... 200 OK\n",
            "Length: 1002883 (979K) [application/java-archive]\n",
            "Saving to: ‘postgresql-42.2.16.jar.1’\n",
            "\n",
            "postgresql-42.2.16. 100%[===================>] 979.38K  --.-KB/s    in 0.1s    \n",
            "\n",
            "2021-10-30 18:36:56 (6.58 MB/s) - ‘postgresql-42.2.16.jar.1’ saved [1002883/1002883]\n",
            "\n"
          ]
        }
      ]
    },
    {
      "cell_type": "code",
      "metadata": {
        "colab": {
          "base_uri": "https://localhost:8080/"
        },
        "id": "YF5OeZ7MMxfy",
        "outputId": "bc06bdee-3cc6-4d38-bb2a-59bf27b5016b"
      },
      "source": [
        "from pyspark.sql import SparkSession\n",
        "spark = SparkSession.builder.appName(\"M16-Amazon-Challenge\").config(\"spark.driver.extraClassPath\",\"/content/postgresql-42.2.16.jar\").getOrCreate()\n",
        "### Load Amazon Data into Spark DataFrame\n",
        "from pyspark import SparkFiles\n",
        "url = \"https://s3.amazonaws.com/amazon-reviews-pds/tsv/amazon_reviews_us_Camera_v1_00.tsv.gz\"\n",
        "spark.sparkContext.addFile(url)\n",
        "df = spark.read.option(\"encoding\", \"UTF-8\").csv(SparkFiles.get(\"\"), sep=\"\\t\", header=True, inferSchema=True)\n",
        "df.show(35)\n",
        "\n",
        "\n"
      ],
      "execution_count": 10,
      "outputs": [
        {
          "output_type": "stream",
          "name": "stdout",
          "text": [
            "+-----------+-----------+--------------+----------+--------------+--------------------+----------------+-----------+-------------+-----------+----+-----------------+--------------------+--------------------+-----------+\n",
            "|marketplace|customer_id|     review_id|product_id|product_parent|       product_title|product_category|star_rating|helpful_votes|total_votes|vine|verified_purchase|     review_headline|         review_body|review_date|\n",
            "+-----------+-----------+--------------+----------+--------------+--------------------+----------------+-----------+-------------+-----------+----+-----------------+--------------------+--------------------+-----------+\n",
            "|         US|    2975964|R1NBG94582SJE2|B00I01JQJM|     860486164|GoPro Rechargeabl...|          Camera|          5|            0|          0|   N|                Y|          Five Stars|                  ok| 2015-08-31|\n",
            "|         US|   23526356|R273DCA6Y0H9V7|B00TCO0ZAA|     292641483|Professional 58mm...|          Camera|          5|            0|          0|   N|                Y|          Love it!!!|Perfect, even stu...| 2015-08-31|\n",
            "|         US|   52764145| RQVOXO7WUOFK6|B00B7733E0|      75825744|Spy Tec Z12 Motio...|          Camera|          2|            1|          1|   N|                Y|Another Motion De...|If the words, &#3...| 2015-08-31|\n",
            "|         US|   47348933|R1KWKSF21PO6HO|B006ZN4U34|     789352955|Celestron UpClose...|          Camera|          5|            0|          0|   N|                Y|Exactly what I wa...|Exactly what I wa...| 2015-08-31|\n",
            "|         US|   33680700|R38H3UO1J190GI|B00HUEBGMU|      19067902|Vidpro XM-L Wired...|          Camera|          5|            1|          1|   N|                Y|Good mic at a Goo...|I will look past ...| 2015-08-31|\n",
            "|         US|   30301059|R3NPIFKLR19NQA|B008MW6Y12|     597683407|NIX 8 inch Hi-Res...|          Camera|          3|            0|          0|   N|                Y|The controls are ...|The controls are ...| 2015-08-31|\n",
            "|         US|   28282645|R3MBE6UCH3435E|B00TE8XKIS|      35563334|Polaroid ZIP Mobi...|          Camera|          3|            8|          8|   N|                N|Fun toy for makin...|The printer came ...| 2015-08-31|\n",
            "|         US|     502818|R2E7A4FF0PVY5Q|B00ZKDUFBQ|     555190742|GeekPro 2.0-Inch ...|          Camera|          5|            0|          1|   N|                Y|          Five Stars|Great camera for ...| 2015-08-31|\n",
            "|         US|    1481233| R3R8JDQ2BF4NM|B010BZ7S2Q|     129544315|Sony HDR-AZ1VR Ac...|          Camera|          5|            0|          2|   N|                Y|          Five Stars|Product is very g...| 2015-08-31|\n",
            "|         US|   27885926|R1YND4BS823GN5|B00HRXSSRA|     708418657|ChiliPower DMW-BL...|          Camera|          1|            0|          0|   N|                Y|              Sucky.|Lasted a few hour...| 2015-08-31|\n",
            "|         US|    3183883|R2TZNSA18V7YF6|B005C95NM4|     246957815|Zeikos Deluxe Fla...|          Camera|          4|            1|          1|   N|                Y|Hand Hold Bracket...|I needed the flas...| 2015-08-31|\n",
            "|         US|   23208852|R22ZVRDPPXIDNL|B00LBIBYBE|     746593019|  GoPro Hero Filters|          Camera|          5|            0|          0|   N|                Y|          Five Stars|Use these all the...| 2015-08-31|\n",
            "|         US|   11438825|R1F4O6WOO2W461|B00X3HIM2U|     444991975|Neewer Meike MK-X...|          Camera|          3|            3|          3|   N|                Y|Can't grip the ba...|Same issue as oth...| 2015-08-31|\n",
            "|         US|   50399582| RT1KLS3QSJNUT|B00KDVQF8W|     304104050|LB Photography Ba...|          Camera|          5|            4|          4|   N|                Y|Super pleased wit...|Super pleased wit...| 2015-08-31|\n",
            "|         US|   36700181|R222VYJL5K5IRS|B00GUZEZL4|     472875794|Waterproof Camera...|          Camera|          5|            0|          0|   N|                Y|    Excellent value!|These float wrist...| 2015-08-31|\n",
            "|         US|   47818374|R31LUR7M4PQOLU|B00FB1TBKS|     710827451|Ecolink Z-Wave PI...|          Camera|          5|            0|          0|   N|                Y|       great product|very good on batt...| 2015-08-31|\n",
            "|         US|   35272750|R1OD3T3Q042LUQ|B00GVMLPT6|     269896170|FotoTech Male to ...|          Camera|          2|            0|          0|   N|                Y|           Two Stars|im not happy, the...| 2015-08-31|\n",
            "|         US|   11736306|R2QT68OZTT2YKE|B00L8827BI|     145946775|Nikon D3200 Ultim...|          Camera|          5|            0|          0|   N|                Y|          Five Stars|It is a very good...| 2015-08-31|\n",
            "|         US|   52377008| RMFQF59FG3TD1|B00SIM78R0|     972011051|D-Link Wireless D...|          Camera|          4|            0|          0|   N|                Y|Nice camera, not ...|Nice camera for t...| 2015-08-31|\n",
            "|         US|    6465510|R1QNYFW6G31R5T|B00EDCZKJ2|     258297575|ZINK Phone Photo ...|          Camera|          1|            1|          3|   N|                N|        Never Agian.|If I could leave ...| 2015-08-31|\n",
            "|         US|   16433265| REL0JGGHPWA2H|B008SFPMRK|     276036334|Wasabi Power Batt...|          Camera|          4|            0|          1|   N|                Y|Good batteries an...|This recharges ba...| 2015-08-31|\n",
            "|         US|   11402392| RA77423YFRUVF|B00XZGBW44|     236367800|Sricam SP720 Plug...|          Camera|          1|            0|          0|   N|                Y|                 BAD|Not usable due to...| 2015-08-31|\n",
            "|         US|   50510428|R191ZO2RO86E7E|B00MENDBKC|     495733680|Samsung Galaxy GC...|          Camera|          4|            1|          1|   N|                Y|Perfect size for ...|This was one of t...| 2015-08-31|\n",
            "|         US|   25247114|R1TZY7MU6W6GGI|B009KY5YYO|     156554573|Ape Case Professi...|          Camera|          5|            4|          4|   N|                Y|Inexpensive large...|Well padded very ...| 2015-08-31|\n",
            "|         US|   41938409|R2CHIF1ZW0NPJC|B00YQ887FC|     384886390|ActionPro-X Bundl...|          Camera|          4|            3|          4|   N|                Y|I love the camera...|I love the camera...| 2015-08-31|\n",
            "|         US|   36323480|R1423505GKR5G4|B002CGSYNA|     389962344|Olympus VF-1 Opti...|          Camera|          5|            0|          0|   N|                Y|   Somewhat helpful.|Works well, howev...| 2015-08-31|\n",
            "|         US|   13649601| RSSBVMLYXJLKI|B001VGJ4DG|     808957135|Pioneer Photo Alb...|          Camera|          4|            0|          0|   N|                Y|        Great price!|Great price for w...| 2015-08-31|\n",
            "|         US|   22125044|R2DTIYMTXQPAJV|B0046C8BWM|     992311641|57\" Tripod Kit Fo...|          Camera|          1|            0|          0|   N|                Y|  Don't get suckered|The second or thi...| 2015-08-31|\n",
            "|         US|   40291324|R2R4HCYG7FXB7L|B00GMRUEMY|      85696792|(Create a generic...|          Camera|          5|            0|          0|   N|                Y|          Five Stars|Fit and worked pe...| 2015-08-31|\n",
            "|         US|   35386096| RVWGBVMVBOL0F|B00JTE50US|     472875794|Waterproof Camera...|          Camera|          5|            0|          0|   N|                Y|A Must Have For W...|I purchased this ...| 2015-08-31|\n",
            "|         US|    6475102|R2224ZZSLPMPCO|B00XC46RWG|     273550933|Lightdow LD6000 W...|          Camera|          5|            6|          8|   N|                Y|Perfect GoPro Alt...|Absolutely love t...| 2015-08-31|\n",
            "|         US|   12354360|R1ZXEDXFCLXZPO|B00KCX8H6E|       4252165|GoPro 3-Way Grip,...|          Camera|          5|            0|          0|   N|                Y|          Five Stars|Great product, ve...| 2015-08-31|\n",
            "|         US|   52859599|R12KFKM60SHKF2|B002GUF90I|     509362904|Nikon ML-L3 Remot...|          Camera|          1|            0|          0|   N|                Y|                 Dud|It never worked. ...| 2015-08-31|\n",
            "|         US|   10382518|R2SJQH4I9C65WZ|B00RRD1IFO|     106068505|WoCase GoPro Fram...|          Camera|          5|            0|          0|   N|                Y|          Five Stars|   Good as described| 2015-08-31|\n",
            "|         US|     109519| R6Y1V5U0NU6H3|B003F7DWH8|     458513115|Case Logic DCB-30...|          Camera|          5|            0|          0|   N|                N|   I had to get this|Love at first sig...| 2015-08-31|\n",
            "+-----------+-----------+--------------+----------+--------------+--------------------+----------------+-----------+-------------+-----------+----+-----------------+--------------------+--------------------+-----------+\n",
            "only showing top 35 rows\n",
            "\n"
          ]
        }
      ]
    },
    {
      "cell_type": "code",
      "metadata": {
        "id": "d6ot1kD3dlm2"
      },
      "source": [
        ""
      ],
      "execution_count": 10,
      "outputs": []
    },
    {
      "cell_type": "code",
      "metadata": {
        "colab": {
          "base_uri": "https://localhost:8080/"
        },
        "id": "Bh47hUSrmtEm",
        "outputId": "4844cf32-5a6a-44dc-ac52-c3a690dbfe96"
      },
      "source": [
        "#total number of reviews\n",
        "from pyspark.sql.functions import countDistinct\n",
        "total_reviews= df.select(countDistinct(\"review_id\"))\n",
        "total_reviews.show()"
      ],
      "execution_count": 11,
      "outputs": [
        {
          "output_type": "stream",
          "name": "stdout",
          "text": [
            "+-------------------------+\n",
            "|count(DISTINCT review_id)|\n",
            "+-------------------------+\n",
            "|                  1801974|\n",
            "+-------------------------+\n",
            "\n"
          ]
        }
      ]
    },
    {
      "cell_type": "code",
      "metadata": {
        "colab": {
          "base_uri": "https://localhost:8080/"
        },
        "id": "4dyJTMcwkV8c",
        "outputId": "8170e182-350a-4853-f81c-d97314c133fe"
      },
      "source": [
        "vine_reviews= df.filter(\"verified_purchase== 'Y'\").count()\n",
        "print(vine_reviews)"
      ],
      "execution_count": 18,
      "outputs": [
        {
          "output_type": "stream",
          "name": "stdout",
          "text": [
            "1494401\n"
          ]
        }
      ]
    },
    {
      "cell_type": "code",
      "metadata": {
        "colab": {
          "base_uri": "https://localhost:8080/"
        },
        "id": "1NQEMDlLkg7j",
        "outputId": "7a1c2cd8-da64-4f38-9bf4-22fa3e798fa2"
      },
      "source": [
        "nonvine_reviews = df.filter(\"verified_purchase== 'N'\").count()\n",
        "print(nonvine_reviews)"
      ],
      "execution_count": 19,
      "outputs": [
        {
          "output_type": "stream",
          "name": "stdout",
          "text": [
            "307571\n"
          ]
        }
      ]
    },
    {
      "cell_type": "code",
      "metadata": {
        "colab": {
          "base_uri": "https://localhost:8080/"
        },
        "id": "mbk4OTI_ms5G",
        "outputId": "1cc059de-f7a3-4619-9cc8-e7d11a267eef"
      },
      "source": [
        "#total number of fiive start reviews\n",
        "five_star= df.filter(\"star_rating == '5'\").count()\n",
        "print(five_star)"
      ],
      "execution_count": 12,
      "outputs": [
        {
          "output_type": "stream",
          "name": "stdout",
          "text": [
            "1062706\n"
          ]
        }
      ]
    },
    {
      "cell_type": "code",
      "metadata": {
        "colab": {
          "base_uri": "https://localhost:8080/"
        },
        "id": "d2Gm9eRcmsqZ",
        "outputId": "8ea27e7e-7cb9-4a62-fecd-7bf0697c6d7b"
      },
      "source": [
        "#percentage of five star for paid and unpaid\n",
        "five_star_paid= df.filter((df.star_rating == '5')& (df.verified_purchase== 'Y')).count()\n",
        "print(five_star_paid)"
      ],
      "execution_count": 13,
      "outputs": [
        {
          "output_type": "stream",
          "name": "stdout",
          "text": [
            "904360\n"
          ]
        }
      ]
    },
    {
      "cell_type": "code",
      "metadata": {
        "colab": {
          "base_uri": "https://localhost:8080/"
        },
        "id": "EC7vdZsgVhnr",
        "outputId": "22104b5d-0ae7-48cf-b5dd-8847e7abec5e"
      },
      "source": [
        "five_star_unpaid= df.filter((df.star_rating == '5')& (df.verified_purchase== 'N')).count()\n",
        "print(five_star_unpaid)"
      ],
      "execution_count": 14,
      "outputs": [
        {
          "output_type": "stream",
          "name": "stdout",
          "text": [
            "158346\n"
          ]
        }
      ]
    },
    {
      "cell_type": "code",
      "metadata": {
        "colab": {
          "base_uri": "https://localhost:8080/"
        },
        "id": "MVCSpxVKZhpA",
        "outputId": "923ed4e2-ce5b-45e0-80e4-0f66688dd926"
      },
      "source": [
        "five_star_perc= (five_star_paid/five_star)*100\n",
        "five_star_unperc= (five_star_unpaid/five_star)*100\n",
        "print('The five start paid review percentage is', five_star_perc ,'% and five start unpaid review percentage is ', five_star_unperc, \"%\")"
      ],
      "execution_count": 15,
      "outputs": [
        {
          "output_type": "stream",
          "name": "stdout",
          "text": [
            "The five start paid review percentage is 85.09973595707562 % and five start unpaid review percentage is  14.900264042924382 %\n"
          ]
        }
      ]
    }
  ]
}